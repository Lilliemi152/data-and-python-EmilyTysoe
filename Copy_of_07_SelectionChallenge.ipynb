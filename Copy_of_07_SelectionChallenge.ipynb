{
  "nbformat": 4,
  "nbformat_minor": 0,
  "metadata": {
    "colab": {
      "provenance": [],
      "include_colab_link": true
    },
    "kernelspec": {
      "name": "python3",
      "display_name": "Python 3"
    }
  },
  "cells": [
    {
      "cell_type": "markdown",
      "metadata": {
        "id": "view-in-github",
        "colab_type": "text"
      },
      "source": [
        "<a href=\"https://colab.research.google.com/github/Lilliemi152/data-and-python-EmilyTysoe/blob/main/Copy_of_07_SelectionChallenge.ipynb\" target=\"_parent\"><img src=\"https://colab.research.google.com/assets/colab-badge.svg\" alt=\"Open In Colab\"/></a>"
      ]
    },
    {
      "cell_type": "markdown",
      "metadata": {
        "id": "-QxAKPD8DZfj"
      },
      "source": [
        "# Three selection challenges\n",
        "\n",
        "---\n"
      ]
    },
    {
      "cell_type": "markdown",
      "metadata": {
        "id": "2KYUALILDcM9"
      },
      "source": [
        "### Challenge 1 - password format  \n",
        "\n",
        "Write a function called **check_password_valid()** which will check the validity of a **password** input by a user.\n",
        "\n",
        "Rules for a valid password are:  \n",
        "\n",
        "*  At least 1 letter between [a-z] and 1 letter between [A-Z].\n",
        "*  At least 1 number between [0-9].\n",
        "*  At least 1 character from [$#@].\n",
        "*  Minimum length 6 characters.\n",
        "*  Maximum length 16 characters.  \n",
        "\n",
        "Let the user know if the `password` they have typed is valid and, if not, where was the first error.\n",
        "\n",
        "*Hint:  to test if a set of characters is present in a password String, you can use re.search('[character set]', `password`)*  \n",
        "\n",
        "Example:   \n",
        "*if re.search('[a-z]',`password`):*    \n",
        "if there is at least 1 character a-z in the password, re.search will not be None.\n",
        "\n",
        "**re** is a pre-written Python function for pattern searching in Strings.  It has been imported for you in the code cell below.  "
      ]
    },
    {
      "cell_type": "code",
      "metadata": {
        "id": "8wBK9IA4BO2e",
        "colab": {
          "base_uri": "https://localhost:8080/"
        },
        "outputId": "f83ea5e9-7a8a-4ef7-a234-b3e026ac853a"
      },
      "source": [
        "import re\n",
        "\n",
        "# add your check_PasswordValid() function and call below here\n",
        "def check_password_valid():\n",
        "  password=input(\"Please enter a password \")\n",
        "  score=0\n",
        "  if re.search(\"[a-z]\",password):\n",
        "    score+=1\n",
        "  if re.search(\"[A-Z]\", password):\n",
        "    score+=1\n",
        "  if re.search(\"[0-9]\", password):\n",
        "    score+=1\n",
        "  if re.search(\"[$#@]\", password):\n",
        "    score+=1\n",
        "  if len(password)>=6:\n",
        "    score+=1\n",
        "  if len(password)<=16:\n",
        "    score+=1\n",
        "  if score==6:\n",
        "    print(\"Your password is valid \")\n",
        "  else:\n",
        "    print(\"Your password is invalid\")\n",
        "\n",
        "check_password_valid()\n"
      ],
      "execution_count": null,
      "outputs": [
        {
          "output_type": "stream",
          "name": "stdout",
          "text": [
            "Please enter a password pas\n",
            "Your password is invalid\n"
          ]
        }
      ]
    },
    {
      "cell_type": "markdown",
      "metadata": {
        "id": "f0R4GYTEFQS-"
      },
      "source": [
        "---\n",
        "### Challenge 2 - triangle shape  \n",
        "\n",
        "Write a function called **evaluate_triangle_shape()** which will check if a triangle is equilateral, isosceles or scalene, based on the three side lengths entered by a user (**x**, **y** and **z**.\n",
        "\n",
        "An equilateral triangle is a triangle in which all three sides are equal.\n",
        "A scalene triangle is a triangle that has three unequal sides.\n",
        "An isosceles triangle is a triangle with (at least) two equal sides.\n",
        "\n",
        "For example:  \n",
        "A triange with side lengths                                 \n",
        "x: 6                                                                    \n",
        "y: 8                                                                    \n",
        "z: 12                                                                   \n",
        "is a *Scalene triangle*\n",
        "\n",
        "A triangle with side lengths\n",
        "x:5  \n",
        "y:3   \n",
        "z:5  \n",
        "is an *Isosceles triangle*"
      ]
    },
    {
      "cell_type": "code",
      "metadata": {
        "id": "oBgl4ro1DVL0",
        "colab": {
          "base_uri": "https://localhost:8080/"
        },
        "outputId": "4fd986f9-f8de-4aca-e8d3-72384843b662"
      },
      "source": [
        "def evaluate_triangle_shape():\n",
        "  x=float(input(\"Please enter a number \"))\n",
        "  y=float(input(\"Please enter a number \"))\n",
        "  z=float(input(\"Please enter a number \"))\n",
        "  if (x == y and y == z) and (x == z):\n",
        "    print(\"The triangle is equilateral \")\n",
        "  elif (x != y and x != z) and (x != z):\n",
        "    print(\"The triangle is scalene \")\n",
        "  elif (x == y or x == z or y == z):\n",
        "    print(\"The triangle is isosceles \")\n",
        "  else:\n",
        "    print(\"This is not a valid equation \")\n",
        "\n",
        "evaluate_triangle_shape()\n",
        "#code returns correct result in all instances according to the numbers input"
      ],
      "execution_count": 14,
      "outputs": [
        {
          "output_type": "stream",
          "name": "stdout",
          "text": [
            "Please enter a number 3\n",
            "Please enter a number 3\n",
            "Please enter a number 6\n",
            "The triangle is isosceles \n"
          ]
        }
      ]
    },
    {
      "cell_type": "markdown",
      "metadata": {
        "id": "hr2EotkqG33l"
      },
      "source": [
        "---\n",
        "### Challenge 3 - which season\n",
        "\n",
        "Write a function called **determine_season()** which will ask the user to enter two integers representing a **month** and **day** and prints the season for that month and day.\n",
        "\n",
        "Note:  for this exercise the season dates are:\n",
        "*  Winter December 21 to March 20    \n",
        "*  Spring March 21 to June 20  \n",
        "*  Summer June 21 to September 20  \n",
        "*  Autumn September 21 to December 20\n",
        "\n",
        "Test input:  \n",
        "Input the month (e.g. January, February etc.): 7                     \n",
        "Input the day: 31                                                       \n",
        "\n",
        "Expected output:  \n",
        "Season is summer\n",
        "\n",
        "*Note: this will require multiple and or or operators and you should use brackets to help Python know which operations to do first*  \n",
        "\n",
        "*For an extra challenge you can check that the day is valid for the month*"
      ]
    },
    {
      "cell_type": "code",
      "metadata": {
        "id": "cvbfz8nzG4IL",
        "colab": {
          "base_uri": "https://localhost:8080/"
        },
        "outputId": "258d62e2-2b7d-480d-da7a-7f9e65724b1e"
      },
      "source": [
        "def determine_season():\n",
        "  month=input(\"Please enter a month \")\n",
        "  day=int(input(\"Please enter a day \"))\n",
        "  if (month == \"December\" and day >= 21) or (month == \"January\") or (month == \"February\") or (month == \"March\" and day <= 20):\n",
        "    print(\"Season is Winter \")\n",
        "  elif (month == \"March\" and day >=21) or (month == \"April\") or (month == \"May\") or (month == \"June\" and day <= 20):\n",
        "    print(\"Season is Spring\")\n",
        "  elif (month == \"June\" and day >=21) or (month == \"July\") or (month == \"August\") or (month == \"September\" and day <= 20):\n",
        "    print(\"Season is Summer\")\n",
        "  elif (month == \"September\" and day >=21) or (month == \"October\") or (month == \"November\") or (month == \"December\" and day <=20):\n",
        "    print(\"Season is Autumn\")\n",
        "  else:\n",
        "    print(\"Input is invalid \")\n",
        "\n",
        "determine_season()\n",
        "\n",
        "#Code returns correct season when changing from 20 to 21 in all 4 given instances, currently ignoring real-world logic of actual month lengths otherwise"
      ],
      "execution_count": 78,
      "outputs": [
        {
          "output_type": "stream",
          "name": "stdout",
          "text": [
            "Please enter a month December\n",
            "Please enter a day 2\n",
            "Season is Autumn\n"
          ]
        }
      ]
    }
  ]
}