{
  "nbformat": 4,
  "nbformat_minor": 0,
  "metadata": {
    "colab": {
      "provenance": [],
      "include_colab_link": true
    },
    "kernelspec": {
      "name": "python3",
      "display_name": "Python 3"
    }
  },
  "cells": [
    {
      "cell_type": "markdown",
      "metadata": {
        "id": "view-in-github",
        "colab_type": "text"
      },
      "source": [
        "<a href=\"https://colab.research.google.com/github/Lilliemi152/data-and-python-EmilyTysoe/blob/main/Copy_of_02_DataTypes2.ipynb\" target=\"_parent\"><img src=\"https://colab.research.google.com/assets/colab-badge.svg\" alt=\"Open In Colab\"/></a>"
      ]
    },
    {
      "cell_type": "markdown",
      "metadata": {
        "id": "3O7iro_BV0mL"
      },
      "source": [
        "# Data Types and Operators\n",
        "\n",
        "---"
      ]
    },
    {
      "cell_type": "markdown",
      "metadata": {
        "id": "ZQgTpaaKLIsF"
      },
      "source": [
        "# Changing Data Input Type\n",
        "**Recap**: to get input from the user and store it in a variable, use the instruction  \n",
        "\n",
        "*variableName = input(\"message asking user for required information\")*\n",
        "\n",
        "**Remember**: Unless you state otherwise, all input is String data  \n",
        "\n",
        "**Integers** are whole numbers and can be both positive or negative.  \n",
        "**Floats** are decimal numbers which have a 'floating' decimal point.  \n",
        "To change the input data type, we can specify the type of data we would like from the user  \n",
        "\n",
        "*integer_variable_name = int(input(\"Please input a whole number \"))*  \n",
        "\n",
        "*float_variable_name* = float(input(\"Please input a decimal number \")) *\n",
        "\n",
        "By using either *int()* or *float()* it tells Python what kind of data will be stored in the variable  \n"
      ]
    },
    {
      "cell_type": "markdown",
      "metadata": {
        "id": "y9KJWVXhLcAB"
      },
      "source": [
        "---\n",
        "### Exercise 1 - changing data type\n",
        "Write a function called **show_details()** which will:  \n",
        "\n",
        "*  ask the user their name, age and height in metres  \n",
        "*  print the message Hello `name` you are `age` years old and `height` metres tall  \n",
        "\n",
        "*Remember to specify the correct data type for each input*   \n",
        "\n",
        "Test Input:  \n",
        "Jean  \n",
        "52  \n",
        "2.3  \n",
        "\n",
        "Expected Output:  \n",
        "Hello Jean you are 52 years old and 2.3 metres tall\n"
      ]
    },
    {
      "cell_type": "code",
      "metadata": {
        "id": "zA85A39JLzfF",
        "colab": {
          "base_uri": "https://localhost:8080/"
        },
        "outputId": "a8e577bd-9635-409e-b58b-32abb132aab6"
      },
      "source": [
        "def show_details():\n",
        "  name=\"Jean\"\n",
        "  age=\"52\"\n",
        "  height=\"2.3\"\n",
        "  print(\"Hello\",name,\"you are\",age,\"years old and\",height,\"metres tall\")\n",
        "\n",
        "show_details()\n",
        "\n",
        "#Remember format is def first; the first show_details needs the colon after the brackets; the second show_details then does NOT need the colon after but SHOULD NOT be indented.\n",
        "#Other than these minor corrections, code worked perfectly first time!"
      ],
      "execution_count": 5,
      "outputs": [
        {
          "output_type": "stream",
          "name": "stdout",
          "text": [
            "Hello Jean you are 52 years old and 2.3 metres tall\n"
          ]
        }
      ]
    },
    {
      "cell_type": "markdown",
      "metadata": {
        "id": "_tBD2cGDW1GB"
      },
      "source": [
        "---\n",
        "### Exercise 2 - boolean variables\n",
        "\n",
        "A **boolean variable** can hold just two values, True or False.  This type of variable is hugely valuable in holding onto the state of things.  For example, a boolean variable called loggedIn might hold True if the user is loggedIn and False otherwise.  This means that at any point while a program is running, it is possible to ask the question \"Is the user logged in?\".  The answer will depend on the value of the variable loggedIn.  \n",
        "\n",
        "Although we will use the values True and False as words, Python stores them as 1 for true and 0 for false.   \n",
        "\n",
        "To demonstrate this, write a function called **show_true_or_false()** which will:  \n",
        "\n",
        "*  create a variable called **logged_in** and assign it the value True (use the assignment operator **=** the same as usual)  \n",
        "*  create a variable called **logged_in_as_num** and assign it the value int(True)  \n",
        "*  print `logged_in` and `logged_in_as_num`\n",
        "\n",
        "Expected output:  \n",
        "True 1\n",
        "\n",
        "When you have run this, change True to False in both places.\n",
        "\n",
        "Expected output:  \n",
        "False 0\n"
      ]
    },
    {
      "cell_type": "code",
      "metadata": {
        "id": "XNHcNQEKW8xj",
        "colab": {
          "base_uri": "https://localhost:8080/"
        },
        "outputId": "373bed56-9184-42c9-8b6e-88b05fc8f84c"
      },
      "source": [
        "def show_true_or_false():\n",
        "  logged_in=True\n",
        "  logged_in_as_num=int(True)\n",
        "  print(logged_in,logged_in_as_num)\n",
        "\n",
        "show_true_or_false()\n",
        "\n",
        "#remember, when not printing string (text), the variable does NOT need quotation marks\n",
        "#Code ran correctly in both instances of True and False"
      ],
      "execution_count": 12,
      "outputs": [
        {
          "output_type": "stream",
          "name": "stdout",
          "text": [
            "True 1\n"
          ]
        }
      ]
    },
    {
      "cell_type": "markdown",
      "metadata": {
        "id": "r8O47uBPW9Gy"
      },
      "source": [
        "---\n",
        "### Exercise 3 - converting float to int\n",
        "\n",
        "Write a function called **count_pound_coins()** which will:  \n",
        "\n",
        "*  ask the user to enter an amount in pounds and pence and assign this value to a float variable called **pounds_pence**  \n",
        "*  convert the float variable to int and assign this value to a variable called **pound_coins**  \n",
        "*  print the message \"Number of pound coins, `pound_coins`\"  \n",
        "\n",
        "Test input:  \n",
        "3.48  \n",
        "\n",
        "Expected output:  \n",
        "Number of pound coins 3\n",
        "\n"
      ]
    },
    {
      "cell_type": "code",
      "metadata": {
        "id": "aTO1l1iNXUNt",
        "colab": {
          "base_uri": "https://localhost:8080/"
        },
        "outputId": "76bd2fd8-b1ad-4a5e-dc2f-86547e0b2634"
      },
      "source": [
        "def count_pound_coins():\n",
        "  pounds_pence=float(input())\n",
        "  pound_coins=int(pounds_pence)\n",
        "  print(\"Number of pound coins\",pound_coins)\n",
        "\n",
        "count_pound_coins()\n",
        "\n",
        "#this exercise took several different combinations to get right, but once I did it ran fine.\n",
        "#float and int do not need to be in parentheses, the numbers INSIDE them do\n",
        "#fucntion should be input(), to allow the user to add the data themselves"
      ],
      "execution_count": 27,
      "outputs": [
        {
          "output_type": "stream",
          "name": "stdout",
          "text": [
            "4.5\n",
            "Number of pound coins 4\n"
          ]
        }
      ]
    },
    {
      "cell_type": "markdown",
      "metadata": {
        "id": "Wy_L3E_-XUWa"
      },
      "source": [
        "---\n",
        "### Exercise 4 - converting int to string\n",
        "\n",
        "Write a function called **format_currency()** which will:\n",
        "\n",
        "*  ask the user to enter a number of pounds and assign this to an integer variable called **num_pounds**  \n",
        "*  convert `num_pounds` to a string and assign it to a variable called **pounds**  \n",
        "*  create a String variable called **currency** which has a \"£\", `pounds`, \".00\" joined together\n",
        "*  print the resulting currency, including the £ sign  \n",
        "\n",
        "Test input:  \n",
        "4\n",
        "\n",
        "Expected output:  \n",
        "£4.00\n"
      ]
    },
    {
      "cell_type": "code",
      "metadata": {
        "id": "2hHoJyjMXXUK",
        "colab": {
          "base_uri": "https://localhost:8080/"
        },
        "outputId": "1947241f-2242-4ae7-e2e5-120f050eb8de"
      },
      "source": [
        "def format_currency():\n",
        " num_pounds=int(input())\n",
        " pounds=str(num_pounds)\n",
        " #print(\"£\",pounds,\".00\")\n",
        " print(f\"£{pounds}.00\")\n",
        "\n",
        "format_currency()\n",
        "\n",
        "#code returns the result ('£','4','.00') when commas are used when currency is (\"£\",pounds,\".00\") - the print result should not be in brackets or have the commas\n",
        "#code returns expected result of \"£4.00\" when + is used when currency is (\"£\"+pounds+\".00\"). Is + the correct symbol to be used here?\n",
        "#update note - comma creates a space between symbols, + does not. Either is acceptable in this instance. f is fstring, what is put in {} is a string variable instead of text"
      ],
      "execution_count": 33,
      "outputs": [
        {
          "output_type": "stream",
          "name": "stdout",
          "text": [
            "4\n",
            "£4.00\n"
          ]
        }
      ]
    },
    {
      "cell_type": "markdown",
      "metadata": {
        "id": "nBZqJ5d7XXdc"
      },
      "source": [
        "---\n",
        "### Exercise 5 - area of a circle\n",
        "\n",
        "Write a function called **calculate_area()** which will:\n",
        "\n",
        "*  ask the user to enter the **radius** of a circle (which could be a float or an int)  \n",
        "*  create a variable called **pi** and assign it the value 3.14159\n",
        "*  calculate the **area** of the circle (`area = pi * radius * radius`)  \n",
        "*  print the area of the circle to 2 decimal places (`print(round(area, 2))` ).  \n",
        "\n",
        "Test input:  \n",
        "5\n",
        "\n",
        "Expected output:  \n",
        "78.54"
      ]
    },
    {
      "cell_type": "code",
      "metadata": {
        "id": "GbkuKY-_dwn0",
        "colab": {
          "base_uri": "https://localhost:8080/"
        },
        "outputId": "4b241b97-a897-4290-889b-a16dfd0b378b"
      },
      "source": [
        "def calculate_area():\n",
        "  radius=float(input(\"please enter a radius \"))\n",
        "  pi=3.14159\n",
        "  area = pi * radius * radius\n",
        "  area=(round(area,2))\n",
        "  print(area)\n",
        "\n",
        "calculate_area()"
      ],
      "execution_count": 35,
      "outputs": [
        {
          "output_type": "stream",
          "name": "stdout",
          "text": [
            "please enter a radius 5\n",
            "78.54\n"
          ]
        }
      ]
    }
  ]
}