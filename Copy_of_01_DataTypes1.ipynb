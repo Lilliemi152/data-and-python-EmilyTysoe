{
  "nbformat": 4,
  "nbformat_minor": 0,
  "metadata": {
    "colab": {
      "provenance": [],
      "include_colab_link": true
    },
    "kernelspec": {
      "name": "python3",
      "display_name": "Python 3"
    }
  },
  "cells": [
    {
      "cell_type": "markdown",
      "metadata": {
        "id": "view-in-github",
        "colab_type": "text"
      },
      "source": [
        "<a href=\"https://colab.research.google.com/github/Lilliemi152/data-and-python-EmilyTysoe/blob/main/Copy_of_01_DataTypes1.ipynb\" target=\"_parent\"><img src=\"https://colab.research.google.com/assets/colab-badge.svg\" alt=\"Open In Colab\"/></a>"
      ]
    },
    {
      "cell_type": "markdown",
      "metadata": {
        "id": "hfYzBHsYgy0C"
      },
      "source": [
        "# Data types and Variables\n",
        "---\n",
        "\n",
        "\n",
        "**Recap**: Variables can store data of different types.  \n",
        "*   **int** (whole numbers, e.g. 4, 523, 1984)  \n",
        "*   **float** (decimal numbers e.g. 4.3, )  \n",
        "*   **str** (strings of characters)  \n",
        "*   **bool** (True or False)  \n",
        "\n",
        "and can be stored in groups (**lists, tuples, dictionaries,** etc)\n",
        "\n",
        "You can '**assign**' a value to a variable using the **=** sign.\n",
        "\n",
        "Once a variable has been assigned a value it will decide what type it is from that value. For example:  \n",
        "firstname = “Monty”  \n",
        "age = 20  \n",
        "\n",
        "*firstname* is now a *str* variable (a string of characters) *age* is now an *int* variable (a whole number)  \n",
        "\n",
        "Once a variable knows its type you will only be able to use it for processes that are relevant to that type. For example, you won't be able to add firstname and age together because firstname is a word and age is a number. You would, however, be able to add 1 to the age  \n",
        "\n",
        "age = age + 1  \n",
        "\n",
        "age is now 1 bigger than it was before\n",
        "\n",
        "## Inspecting the value of a variable\n",
        "To see what data is stored in a variable, or use it in some way, you will use its name.\n",
        "\n",
        "Printing the value of a variable is useful as it allows us to see on screen what is stored in the variable in memory.\n",
        "\n",
        "If the variable name has \"Monty\" stored in it, then   \n",
        "`print(name)` will be the instruction to print *Monty*  \n",
        "`print{\"My name is\", name)` will be the instruction to print *My name is Monty*  \n",
        "and  \n",
        "`print(bottles, \"green bottles\")` will be the instruction to print *10 green bottles*\n",
        "```\n",
        "\n",
        "## Before you start\n",
        "---\n",
        "This video explain the 'shape' of a python program.  [WATCH](https://vimeo.com/905632732/8cf7e96ffa?share=copy)"
      ]
    },
    {
      "cell_type": "markdown",
      "metadata": {
        "id": "bUfEgyAJBgxX"
      },
      "source": [
        "## Using variables of different types and functions\n",
        "----\n",
        "### Exercise 1\n",
        "The cell below contains a function. Functions are named sets of instructions that do one particular thing, often creating a new set of data but sometimes just setting something up.  \n",
        "\n",
        "A function starts with the keyword def (short for define or definition). All instructions below the definition are indented and this indicates that they are part of that function. A function runs when its name is used outside the function (here it is not indented). The indentation is important, note where the code is and isn't indented.  \n",
        "\n",
        "*  create a variable called **name** and assign it a value (any name)  \n",
        "*  print the message “Hello” name  \n",
        "*  change the value of `name` and run the code again to get a new message"
      ]
    },
    {
      "cell_type": "code",
      "metadata": {
        "id": "4oPwx_yTf-yt",
        "colab": {
          "base_uri": "https://localhost:8080/"
        },
        "outputId": "0478debf-fc3d-4cef-cff0-16f728b9f493"
      },
      "source": [
        "def show_welcome():\n",
        "   # create the variable called name below here (indented like this line) and add the instruction print(\"Hello\",name)\n",
        "   name=\"Emily\"\n",
        "   print(\"Hello\",name)\n",
        "\n",
        "show_welcome()\n",
        "  #note - anything added in this green text with the # will be ignored by the program, so I can use it here as a note taking system to log errors I come across and how to fix them.\n",
        "  #the name didn't print correctly at first because I didn't put my name in quote marks - the variable(in this case, name)=x needs to written as variable=\"x\"\n"
      ],
      "execution_count": 11,
      "outputs": [
        {
          "output_type": "stream",
          "name": "stdout",
          "text": [
            "Hello Emily\n"
          ]
        }
      ]
    },
    {
      "cell_type": "markdown",
      "metadata": {
        "id": "apeD48hhB1Ns"
      },
      "source": [
        "----\n",
        "### Exercise 2\n",
        "*  create two variables **num1** and **num2** and assign them each a whole number  \n",
        "*  create a third variable **total** which will store the sum of num1 + num2  \n",
        "*  print the message `num1`, \"+\", `num2`, \"=\" ,`total`.  \n",
        "\n",
        "Change the value of one of the numbers and run the code again to get new messages and a new total."
      ]
    },
    {
      "cell_type": "code",
      "metadata": {
        "id": "T6WtdKMiCGh-",
        "colab": {
          "base_uri": "https://localhost:8080/"
        },
        "outputId": "2ebcca29-0eb1-40db-8cd7-264fab7133cd"
      },
      "source": [
        "def show_total():\n",
        "  # add your code below here\n",
        "  num1=27\n",
        "  num2=18\n",
        "  total=(num1+num2)\n",
        "  print(num1, \"+\", num2, \"=\", total)\n",
        "\n",
        "show_total()\n",
        "  #remember addition needs to be written in this way because otherwise the system will see it as literally putting the numbers together as text, not actually adding them\n",
        "  #so it would come out as, in this case, 'add the text 27 to the text 18,' and show 2718"
      ],
      "execution_count": 38,
      "outputs": [
        {
          "output_type": "stream",
          "name": "stdout",
          "text": [
            "27 + 18 = 45\n"
          ]
        }
      ]
    },
    {
      "cell_type": "markdown",
      "metadata": {
        "id": "Vc435xArCR41"
      },
      "source": [
        "---\n",
        "### Exercise 3 - variables of different types\n",
        "*  create a variable called **name** and assign it the value \"Billy\"  \n",
        "*  create a variable called **age** and assign it the value 18  \n",
        "*  print a message \"Hello `name` you are `age` years old\"\n",
        "\n",
        "Test input:  \n",
        "Billy  \n",
        "18  \n",
        "\n",
        "Expected output:  \n",
        "Hello Billy you are 18 years old"
      ]
    },
    {
      "cell_type": "code",
      "metadata": {
        "id": "EmO5dR9nCYpE",
        "colab": {
          "base_uri": "https://localhost:8080/"
        },
        "outputId": "b1435db8-42e9-4268-a516-7489d62c92cb"
      },
      "source": [
        "def show_info():\n",
        "   # add your code below here\n",
        "   name=\"Billy\"\n",
        "   age=18\n",
        "   print(\"Hello\",name,\"you are\",age,\"years old\")\n",
        "\n",
        "show_info()\n",
        "  #remember, while I'm writing in English and view the above sentence as complete by being made up of individual words, the computer doesn't see it that way\n",
        "  #to the computer, this command simply reads as \"piece of text\", \"value=name\", \"piece of text\", \"value=number\", \"piece of text\". It doesn't know what the individual words are\n",
        "  #EACH NEW COMMAND NEEDS A COMMA INBETWEEN THEM! Imagine it like sending a telegram, the comma here is the same as the STOP in between words"
      ],
      "execution_count": 46,
      "outputs": [
        {
          "output_type": "stream",
          "name": "stdout",
          "text": [
            "Hello Billy you are 18 years old\n"
          ]
        }
      ]
    },
    {
      "cell_type": "markdown",
      "metadata": {
        "id": "xtPVg1k5CklX"
      },
      "source": [
        "---\n",
        "### Exercise 4 - float variables (and writing your own function)\n",
        "Write a function called **show_price()** which will:  \n",
        "\n",
        "*  create a variable called **product** and assign the value \"Chocolate Bar\"  \n",
        "*  create a variable called **cost** and assign the value 1.39  \n",
        "*  print the message `product`, \"costs\", \"£\", `cost`  \n",
        "\n",
        "Expected output:  \n",
        "Chocolate Bar costs £ 1.39"
      ]
    },
    {
      "cell_type": "code",
      "metadata": {
        "id": "uUqY-_PbCsfN",
        "colab": {
          "base_uri": "https://localhost:8080/"
        },
        "outputId": "1cd492c1-d3a7-4807-f137-dbb35d870757"
      },
      "source": [
        "def show_price():\n",
        "  product=\"chocolate bar\"\n",
        "  cost=\"1.39\"\n",
        "  print(product,\"costs\",\"£\",cost)\n",
        "\n",
        "show_price()\n",
        "#the command to make the function display at the bottom must not be indented, because it's not part of the main code. It also only has the closed brackets, not the colon"
      ],
      "execution_count": 50,
      "outputs": [
        {
          "output_type": "stream",
          "name": "stdout",
          "text": [
            "chocolate bar costs £ 1.39\n"
          ]
        }
      ]
    },
    {
      "cell_type": "markdown",
      "metadata": {
        "id": "HXK-Dn_eCtDN"
      },
      "source": [
        "---\n",
        "### Exercise 5 - concatenating strings\n",
        "Write a function called **show_full_name()** which will:  \n",
        "\n",
        "*  create variable called **name** and assign it the value \"Monty\"  \n",
        "*  create a variable called **surname** and assign it the value \"Python\"  \n",
        "*  create a variable called **full_name** and assign it the value `name` + \" \" + `surname`  \n",
        "*  print the `full_name`  \n",
        "\n",
        "Expected output:  \n",
        "Monty Python"
      ]
    },
    {
      "cell_type": "code",
      "metadata": {
        "id": "YJeP2teXC0cV",
        "colab": {
          "base_uri": "https://localhost:8080/"
        },
        "outputId": "b846392d-a3e7-4431-dec3-1274aade1919"
      },
      "source": [
        "def show_full_name():\n",
        "  name=\"Monty\"\n",
        "  surname=\"Python\"\n",
        "  full_name=(name+surname)\n",
        "  print(full_name)\n",
        "\n",
        "show_full_name()\n",
        "#note - code worked correctly first time! :D"
      ],
      "execution_count": 51,
      "outputs": [
        {
          "output_type": "stream",
          "name": "stdout",
          "text": [
            "MontyPython\n"
          ]
        }
      ]
    }
  ]
}