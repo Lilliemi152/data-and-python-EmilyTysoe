{
  "cells": [
    {
      "cell_type": "markdown",
      "metadata": {
        "id": "view-in-github",
        "colab_type": "text"
      },
      "source": [
        "<a href=\"https://colab.research.google.com/github/Lilliemi152/data-and-python-EmilyTysoe/blob/main/Copy_of_PythonDictionaries.ipynb\" target=\"_parent\"><img src=\"https://colab.research.google.com/assets/colab-badge.svg\" alt=\"Open In Colab\"/></a>"
      ]
    },
    {
      "cell_type": "markdown",
      "metadata": {
        "id": "Vvcpt-18AqVE"
      },
      "source": [
        "<a href=\"https://colab.research.google.com/github/StefanMeyer7/Python-Fundamentals/blob/main/PythonDictionaries.ipynb\" target=\"_parent\"><img src=\"https://colab.research.google.com/assets/colab-badge.svg\" alt=\"Open In Colab\"/></a>"
      ]
    },
    {
      "cell_type": "markdown",
      "metadata": {
        "id": "ajVrvblzd9wB"
      },
      "source": [
        "# Dictionaries\n",
        "\n",
        "---\n",
        "\n",
        "A **dictionary** is a collection of dissimilar data stored together in one *record*. Each item of data has a  (or key) that describes its paired value.  \n",
        "\n",
        "Create a dictionary object by declaring the set of keys and values, e.g.:\n",
        "\n",
        "```\n",
        "   transport = {\n",
        "       \"type\":\"bus\",\n",
        "       \"numPassengers\":72,\n",
        "       \"colour\":\"blue\",\n",
        "       \"fuel\":\"diesel\"\n",
        "   }\n",
        "```\n",
        "\n",
        "To access a value in a dictionary, use its key:  \n",
        "\n",
        "```\n",
        "transport[\"type\"] = \"coach\"\n",
        "transport_type = transport[\"type\"]\n",
        "transport_colour = transport[\"colour\"]\n",
        "transport[\"fuel\"] = petrol\n",
        "```\n",
        "\n",
        "To add a new key/value pair to a dictionary, simply assign a value to a new key:  \n",
        "```\n",
        "transport[\"seats\"] = 54\n",
        "```\n",
        "\n",
        "The transport dictionary will now look like this:  \n",
        "```\n",
        "   transport = {\n",
        "       \"type\":\"bus\",\n",
        "       \"numPassengers\":72,\n",
        "       \"colour\":\"blue\",\n",
        "       \"fuel\":\"diesel\",\n",
        "       \"seats\":54\n",
        "   }\n",
        "```\n",
        "\n"
      ]
    },
    {
      "cell_type": "markdown",
      "metadata": {
        "id": "0twREgj8d-8E"
      },
      "source": [
        "---\n",
        "### Exercise 1 - print dictionary\n",
        "\n",
        "Write a function which will:  \n",
        "\n",
        "*  create an empty dictionary for a person (name, age and postcode, with values \"\", 0 and \"\")\n",
        "*  ask the user for name, age and postcode and assign the values to the correct keys in the dictionary  \n",
        "*  print the dictionary\n",
        "\n",
        "Test input:  \n",
        "Jack Jones  \n",
        "16  \n",
        "AB5 3DF  \n",
        "\n",
        "Expected output:  \n",
        "```{'name':'Jack Jones', 'age':16, 'postcode':'AB5 3DF'}```"
      ]
    },
    {
      "cell_type": "code",
      "execution_count": null,
      "metadata": {
        "id": "xxdFsAVFeAaa",
        "colab": {
          "base_uri": "https://localhost:8080/"
        },
        "outputId": "19c0f51a-61b7-4425-bdb1-d7a361644ce7"
      },
      "outputs": [
        {
          "name": "stdout",
          "output_type": "stream",
          "text": [
            "Please enter your name Jack Jones\n",
            "Please enter your age 16\n",
            "Please enter your postcode AB5 3DF\n"
          ]
        },
        {
          "output_type": "execute_result",
          "data": {
            "text/plain": [
              "{'name': 'Jack Jones', 'age': '16', 'postcode': 'AB5 3DF'}"
            ]
          },
          "metadata": {},
          "execution_count": 1
        }
      ],
      "source": [
        "def print_dictionary():\n",
        "  person = {}\n",
        "  name = input(\"Please enter your name \")\n",
        "  age = input(\"Please enter your age \")\n",
        "  postcode = input(\"Please enter your postcode \")\n",
        "  person[\"name\"]= name\n",
        "  person[\"age\"] = age\n",
        "  person[\"postcode\"] = postcode\n",
        "\n",
        "  return person\n",
        "\n",
        "print_dictionary()"
      ]
    },
    {
      "cell_type": "markdown",
      "metadata": {
        "id": "s2ovh9vReApo"
      },
      "source": [
        "---\n",
        "### Exercise 2 - create a dictionary\n",
        "\n",
        "Write a function that will create two dictionaries,without values:  \n",
        "\n",
        "1.  person (with keys firstname, surname, birthdate, postcode)  \n",
        "2.  car (with key/value pairs as follows:  make - Vauxhall, model - Corsa, engineSize - 1199, fuelType - unleaded, num_doors - 4)  \n",
        "\n",
        "*   ask the user to enter the values for the person dictionary  \n",
        "*   print, on one line, the person's name from the person dictionary and the make of the car from the car dictionary.\n",
        "\n",
        "Test input:  \n",
        "Jack  \n",
        "Jones  \n",
        "2005/02/02    \n",
        "AB5 3DF  \n",
        "\n",
        "Expected output:  \n",
        "Jack Jones Vauxhall"
      ]
    },
    {
      "cell_type": "code",
      "execution_count": null,
      "metadata": {
        "id": "zwVtULVkeB5F",
        "colab": {
          "base_uri": "https://localhost:8080/",
          "height": 105
        },
        "outputId": "4f01b305-d676-49d7-cb83-8ca3b2c39fcc"
      },
      "outputs": [
        {
          "name": "stdout",
          "output_type": "stream",
          "text": [
            "Please enter your first name Jack\n",
            "Please enter your surnameJones\n",
            "Please enter your birthdate 2002/02/02\n",
            "Please enter your postcodeAB5 3DF\n"
          ]
        },
        {
          "output_type": "execute_result",
          "data": {
            "text/plain": [
              "'Jack Jones Vauxhall'"
            ],
            "application/vnd.google.colaboratory.intrinsic+json": {
              "type": "string"
            }
          },
          "metadata": {},
          "execution_count": 4
        }
      ],
      "source": [
        "def create_two_dictionaries():\n",
        "  person = {\"firstname\": \"\", \"surname\": \"\", \"birthdate\": \"\", \"postcode\": \"\"}\n",
        "  car = {\"make\": \"Vauxhall\", \"model\": \"Corsa\", \"engineSize\": 1199, \"fuelType\": \"unleaded\", \"num_doors\": 4}\n",
        "  firstname = input(\"Please enter your first name \")\n",
        "  surname = input(\"Please enter your surname\")\n",
        "  birthdate = input(\"Please enter your birthdate \")\n",
        "  postcode = input(\"Please enter your postcode\")\n",
        "  person[\"firstname\"] = firstname\n",
        "  person[\"surname\"] = surname\n",
        "  person[\"postcode\"] = postcode\n",
        "\n",
        "  return f\"{person['firstname']} {person['surname']} {car['make']}\"\n",
        "\n",
        "create_two_dictionaries()"
      ]
    },
    {
      "cell_type": "markdown",
      "metadata": {
        "id": "Juu-ivg0eDS5"
      },
      "source": [
        "---\n",
        "### Exercise 3 - check dictionary values\n",
        "\n",
        "Write a new function which will:\n",
        "\n",
        "*  set up the same two dictionaries as in Exercise 2  \n",
        "*  ask the user to enter the details to complete the person record  \n",
        "*  calculate the person's age  \n",
        "*  if the person is under 17 then print a message to say that they can't buy a car as they are too young to drive\n",
        "*  else if the person is under 25 then print a message to say that an engine size under 1200 is recommended  \n",
        "*  ask the user to enter the make of car that the person is looking for  \n",
        "*  if the user enters the same make as that stored in the car record, then print a message to say that you have one car of that make in stock and print all the details of the car that you have the record for\n",
        "*  else (if the user enters any other car make) then print a message to say sorry that you don't have any cars of that make in stock\n",
        "*  print a message to say that the user can get more details for stockist in the <user's postcode> area if they call 01234567890\n",
        "*  print a message to say \"Thank you <user's name> for using our site\"  \n",
        "\n",
        "Test input:  \n",
        "Jack  \n",
        "Jones  \n",
        "2005/02/02  \n",
        "AB5 3DF  \n",
        "Vauxhall  \n",
        "\n",
        "Expected output:  \n",
        "You are too young to drive\n",
        "\n",
        "Test input:  \n",
        "John  \n",
        "Jones  \n",
        "2003/02/02  \n",
        "AB5 3DF  \n",
        "Vauxhall\n",
        "\n",
        "Expected output:  \n",
        "An engine size under 1200 is recommended  \n",
        "We have one Vauxhall in stock, details:  \n",
        "Make - Vauxhall    \n",
        "Model - Corsa    \n",
        "Engine size - 1199  \n",
        "Fuel type - unleaded   \n",
        "Number of doors - 4  \n",
        "You can get more details of stockists near AB5 3DF on 01234567890  \n",
        "Thank you John Jones for using our site.     \n",
        "\n",
        "Test input:  \n",
        "John  \n",
        "Jones  \n",
        "2003/02/02  \n",
        "AB5 3DF  \n",
        "Ford  \n",
        "\n",
        "Expected output:  \n",
        "An engine size under 1200 is recommended  \n",
        "Sorry, we don't have any of that make in stock  \n"
      ]
    },
    {
      "cell_type": "code",
      "execution_count": 51,
      "metadata": {
        "id": "IiAIQVvWeDsk",
        "colab": {
          "base_uri": "https://localhost:8080/"
        },
        "outputId": "eb4e4d7e-d97f-49ba-c711-14561d04d980"
      },
      "outputs": [
        {
          "output_type": "stream",
          "name": "stdout",
          "text": [
            "Please enter your first name John\n",
            "Please enter your surname Jones\n",
            "Please enter your birthdate 2017-02-02\n",
            "Please enter your postcode AB5 3DF\n",
            "You are too young to drive \n",
            "What make of car would you like? Ford\n",
            "Sorry, we don't have that car in stock \n",
            "You can get more details of stockists near AB5 3DF on 01234 567890\n",
            "Thank you John for using our site \n"
          ]
        },
        {
          "output_type": "execute_result",
          "data": {
            "text/plain": [
              "{'make': 'Vauxhall',\n",
              " 'model': 'Corsa',\n",
              " 'engineSize': 1199,\n",
              " 'fuelType': 'unleaded',\n",
              " 'num_doors': 4}"
            ]
          },
          "metadata": {},
          "execution_count": 51
        }
      ],
      "source": [
        "from datetime import datetime\n",
        "def check_dictionary_values():\n",
        "  person = {\"firstname\": \"\", \"surname\": \"\", \"birthdate\": \"\", \"postcode\": \"\", \"age\": \"\"}\n",
        "  car = {\"make\": \"Vauxhall\", \"model\": \"Corsa\", \"engineSize\": 1199, \"fuelType\": \"unleaded\", \"num_doors\": 4}\n",
        "  firstname = input(\"Please enter your first name \")\n",
        "  surname = input(\"Please enter your surname \")\n",
        "  birthdate = input(\"Please enter your birthdate \")\n",
        "  birthdate = datetime.strptime(birthdate,\"%Y-%m-%d\")\n",
        "  postcode = input(\"Please enter your postcode \")\n",
        "  person[\"firstname\"] = firstname\n",
        "  person[\"surname\"] = surname\n",
        "  person[\"postcode\"] = postcode\n",
        "  today = datetime.now()\n",
        "  age = (today - birthdate).days//365\n",
        "\n",
        "  if age <17:\n",
        "    print(\"You are too young to drive \")\n",
        "  elif age <25:\n",
        "    print(\"An engine under 1200 is recommended \")\n",
        "  car_make = input(\"What make of car would you like? \")\n",
        "  if car_make == \"Vauxhall\":\n",
        "    print(\"We have one Vauxhall in stock, details: \")\n",
        "  else:\n",
        "    print(\"Sorry, we don't have that car in stock \")\n",
        "    print(\"You can get more details of stockists near\",postcode, \"on 01234 567890\")\n",
        "    print(\"Thank you\", firstname, \"for using our site \")\n",
        "\n",
        "  return car\n",
        "\n",
        "\n",
        "check_dictionary_values()"
      ]
    },
    {
      "cell_type": "markdown",
      "metadata": {
        "id": "ctA2qPE3eFRB"
      },
      "source": [
        "---\n",
        "### Exercise 4 - print keys and values\n",
        "\n",
        "Two dictionaries have been created below.  You can print a list of the dictionary's keys using `dictionary_name.keys()` and the values using `dictionary_name.values()`\n",
        "\n",
        "Write a function which will accept a dictionary as a parameter and will:  \n",
        "*  print the dictionary keys as a list   \n",
        "*  print the dictionary values as a list  \n",
        "\n",
        "*Hint*:  you will need to cast the keys as a list (`list(dictionary_name.keys()`)  and do the same for the values.\n",
        "\n",
        "**Expected Output**\n",
        "\n",
        "Input: English  \n",
        "Output:\n",
        "['Andy', 'Angela']  \n",
        "[95, 53]  \n",
        "\n",
        "Input: Maths  \n",
        "Output:  \n",
        "['Andy', 'Angela']  \n",
        "[58, 72]\n",
        "\n",
        "\n",
        "\n"
      ]
    },
    {
      "cell_type": "code",
      "execution_count": 55,
      "metadata": {
        "id": "MJtMND82eGwt",
        "colab": {
          "base_uri": "https://localhost:8080/"
        },
        "outputId": "7be8d83f-b0cd-45b2-cba8-42ace1c2246f"
      },
      "outputs": [
        {
          "output_type": "stream",
          "name": "stdout",
          "text": [
            "['Andy', 'Angela']\n",
            "[95, 53]\n"
          ]
        }
      ],
      "source": [
        "def display_dictionary(scores):\n",
        "  #  add your code below this line\n",
        "  if scores == maths_scores:\n",
        "    print(list(maths_scores.keys()))\n",
        "    print(list(maths_scores.values()))\n",
        "  elif scores == english_scores:\n",
        "    print(list(english_scores.keys()))\n",
        "    print(list(english_scores.values()))\n",
        "\n",
        "\n",
        "english_scores = {'Andy': 95, 'Angela': 53}\n",
        "maths_scores = {'Andy': 58, 'Angela': 72}\n",
        "display_dictionary(english_scores)\n",
        "display_dictionary(maths_scores)"
      ]
    },
    {
      "cell_type": "markdown",
      "metadata": {
        "id": "l21xWlAYeIbD"
      },
      "source": [
        "---\n",
        "### Exercise 5 - add field\n",
        "\n",
        "Write a function which will:\n",
        "\n",
        "*  create a new dictionary called **science_scores** with values of 0 for both Andy and Angela\n",
        "*  update Andy's score for science to 73 and Angela's score to 73   \n",
        "*  create a new key/value pair by adding another learner to the `science_scores`  dictionary (George has a score of 55)    \n",
        "*  print the `science_scores` dictionary to check results  \n",
        "\n",
        "Expected Output\n",
        "\n",
        "{'Andy': 73, 'Angela': 73, 'George': 55}"
      ]
    },
    {
      "cell_type": "code",
      "execution_count": 14,
      "metadata": {
        "id": "yUIyc-AleI1j",
        "colab": {
          "base_uri": "https://localhost:8080/"
        },
        "outputId": "da8c7228-7973-4a20-de0d-a728f7e8a68f"
      },
      "outputs": [
        {
          "output_type": "execute_result",
          "data": {
            "text/plain": [
              "{'Andy': 73, 'Angela': 73, 'George': 55}"
            ]
          },
          "metadata": {},
          "execution_count": 14
        }
      ],
      "source": [
        "def add_field():\n",
        "  english_scores = {'Andy': 95, 'Angela': 53}\n",
        "  maths_scores = {'Andy': 58, 'Angela': 72}\n",
        "  science_scores = {'Andy': 73, 'Angela' : 73}\n",
        "  science_scores['George'] = 55\n",
        "\n",
        "  return science_scores\n",
        "\n",
        "add_field()"
      ]
    },
    {
      "cell_type": "markdown",
      "metadata": {
        "id": "WhkZtLjDeJ5D"
      },
      "source": [
        "---\n",
        "### Exercise 6 - loop through keys/value pairs\n",
        "\n",
        "Write a function which will use a *for* loop to print the each key/value pair in the science dictionary (recreate this dictionary in this function)\n",
        "\n",
        "*(Hint: you can iterate through the key/value pairs in the dictionary in the same way as you iterate through a loop (e.g. for record in dictionary) and print the record (which is the key) and its value)*\n",
        "\n",
        "Expected output:  \n",
        "\n",
        "Angela 72  \n",
        "Andy 72  \n",
        "George 55  "
      ]
    },
    {
      "cell_type": "code",
      "execution_count": 57,
      "metadata": {
        "id": "AhW3GnQheKNW",
        "colab": {
          "base_uri": "https://localhost:8080/"
        },
        "outputId": "6467f8b4-5ac0-473f-bcf7-69ecc1d9ad2c"
      },
      "outputs": [
        {
          "output_type": "stream",
          "name": "stdout",
          "text": [
            "Andy 73\n",
            "Angela 73\n",
            "George 55\n"
          ]
        }
      ],
      "source": [
        "def loop_through_keyvalue_pairs():\n",
        "  science_scores = {'Andy': 73, 'Angela' : 73, 'George' : 55}\n",
        "  for record in science_scores.keys():\n",
        "    print((record),science_scores[record])\n",
        "\n",
        "loop_through_keyvalue_pairs()"
      ]
    },
    {
      "cell_type": "markdown",
      "metadata": {
        "id": "RfJnjBoTeLeU"
      },
      "source": [
        "---\n",
        "### Exercise 7 - generate new dictionary  \n",
        "\n",
        "Write a functions which will:\n",
        "*  create a new dictionary where the keys are numbers between 1 and 15 (both included) and the values are square of keys\n",
        "*  print the dictionary\n",
        "\n",
        "Expected output:  \n",
        "{1: 1, 2: 4, 3: 9, 4: 16, 5: 25, 6: 36, 7: 49, 8: 64, 9: 81, 10: 100, 11: 121, 12: 144, 13: 169, 14: 196, 15: 225}"
      ]
    },
    {
      "cell_type": "code",
      "execution_count": 25,
      "metadata": {
        "id": "Zn-pa0rXeLvk",
        "colab": {
          "base_uri": "https://localhost:8080/"
        },
        "outputId": "6ffbe92e-e0f9-4540-a11a-1ba4b03b3bd8"
      },
      "outputs": [
        {
          "output_type": "stream",
          "name": "stdout",
          "text": [
            "{'1': 1, '2': 4, '3': 9, '4': 16, '5': 25, '6': 36, '7': 49, '8': 64, '9': 81, '10': 100, '11': 121, '12': 144, '13': 169, '14': 196, '15': 225}\n"
          ]
        }
      ],
      "source": [
        "def generate_new_dictionary():\n",
        "  numbers = {'1':1,'2':4,'3':9,'4':16,'5':25,'6':36,'7':49,'8':64,'9':81,'10':100,'11':121,'12':144,'13':169,'14':196,'15':225}\n",
        "  print(numbers)\n",
        "\n",
        "generate_new_dictionary()"
      ]
    },
    {
      "cell_type": "code",
      "source": [
        "def generate_new_dictionary():\n",
        "  numbers = {}\n",
        "  for i in range(1,16):\n",
        "    numbers[i] = i**2\n",
        "\n",
        "  return numbers\n",
        "\n",
        "print(generate_new_dictionary())"
      ],
      "metadata": {
        "colab": {
          "base_uri": "https://localhost:8080/"
        },
        "id": "71IOO3ht82vB",
        "outputId": "930c7df5-13d7-4265-e8ff-c62e2c9b8b25"
      },
      "execution_count": 59,
      "outputs": [
        {
          "output_type": "stream",
          "name": "stdout",
          "text": [
            "{1: 1, 2: 4, 3: 9, 4: 16, 5: 25, 6: 36, 7: 49, 8: 64, 9: 81, 10: 100, 11: 121, 12: 144, 13: 169, 14: 196, 15: 225}\n"
          ]
        }
      ]
    },
    {
      "cell_type": "markdown",
      "metadata": {
        "id": "oehTCZ07eMm_"
      },
      "source": [
        "---\n",
        "### Exercise 8 - colour dictionary  \n",
        "\n",
        "Write a function which will:  \n",
        "*  create a new dictionary record called colour_codes with the values 'red' - '#FF0000', 'green' - '#008000', 'black' - '#000000', 'white' - '#FFFFFF'\n",
        "*  add a new colour code:  'blue' - '#0000FF'    \n",
        "*  remove the colours black and white from the dictionary  \n",
        "\n",
        "*Hint:  there is a list of methods [here](https://www.w3schools.com/python/python_ref_dictionary.asp)*  "
      ]
    },
    {
      "cell_type": "code",
      "execution_count": 26,
      "metadata": {
        "id": "DCJC5Jk2eM5Q",
        "colab": {
          "base_uri": "https://localhost:8080/"
        },
        "outputId": "b1c71565-cb81-4f6e-e5c6-5ead35749563"
      },
      "outputs": [
        {
          "output_type": "stream",
          "name": "stdout",
          "text": [
            "{'red': '#FF0000', 'green': '#008000', 'blue': '#0000FF'}\n"
          ]
        }
      ],
      "source": [
        "def colour_dictionary():\n",
        "  colour_codes = {\"red\":\"#FF0000\", \"green\":\"#008000\",\"black\":\"#000000\",\"white\":\"FFFFFF\"}\n",
        "  colour_codes[\"blue\"] = \"#0000FF\"\n",
        "  colour_codes.pop(\"black\")\n",
        "  colour_codes.pop(\"white\")\n",
        "\n",
        "  print(colour_codes)\n",
        "\n",
        "colour_dictionary()"
      ]
    },
    {
      "cell_type": "markdown",
      "metadata": {
        "id": "W1z8ixCzeN8x"
      },
      "source": [
        "---\n",
        "### Exercise 9 - item tuples  \n",
        "\n",
        "Write a function which will:  \n",
        "*  create a new dictionary containing the colour codes for red, green, blue, black and white\n",
        "*  print the key/value pairs of a dictionary as a list of tuples  \n",
        "\n",
        "*Hint:  iterate through colours.items()*"
      ]
    },
    {
      "cell_type": "code",
      "execution_count": 31,
      "metadata": {
        "id": "9fMy4RU_eOdE",
        "colab": {
          "base_uri": "https://localhost:8080/"
        },
        "outputId": "35a3f346-1540-4590-c625-d4d09d57fe48"
      },
      "outputs": [
        {
          "output_type": "stream",
          "name": "stdout",
          "text": [
            "dict_items([('red', '#FF0000'), ('green', '#008000'), ('blue', '#0000FF'), ('black', '#000000'), ('white', 'FFFFFF')])\n"
          ]
        }
      ],
      "source": [
        "def item_tuples():\n",
        "  colour_codes = {\"red\":\"#FF0000\", \"green\":\"#008000\",\"blue\":\"#0000FF\",\"black\":\"#000000\",\"white\":\"FFFFFF\"}\n",
        "\n",
        "  print(colour_codes.items())\n",
        "\n",
        "item_tuples()"
      ]
    },
    {
      "cell_type": "markdown",
      "metadata": {
        "id": "gkrOvN9IePku"
      },
      "source": [
        "---\n",
        "### Exercise 10 - check if empty\n",
        "Taken from w3resouce.com  \n",
        "\n",
        "Write a function which will check if a dictionary is empty or not\n",
        "\n",
        "*Hint:  you can use bool(dictionary_name), if the dictionary is empty then bool(dictionary_name will be false)*\n",
        "\n",
        "Test 1 sample data:\n",
        "{}\n",
        "\n",
        "Expected output:\n",
        "Dictionary is empty  \n",
        "\n",
        "Test 2 sample data:  \n",
        "{\"name\":\"Groucho\", \"occupation\":\"comedian\"}\n",
        "\n",
        "Expected output:  \n",
        "Dictionary is not empty"
      ]
    },
    {
      "cell_type": "code",
      "execution_count": 61,
      "metadata": {
        "id": "BulXCFK0eQJ-",
        "colab": {
          "base_uri": "https://localhost:8080/"
        },
        "outputId": "7fe1a59e-82c9-42ae-bb39-7e775c862d15"
      },
      "outputs": [
        {
          "output_type": "stream",
          "name": "stdout",
          "text": [
            "Dictionary is not empty\n"
          ]
        }
      ],
      "source": [
        "def check_if_empty():\n",
        "  sample_data = {\"name\":\"Groucho\",\"occupation\":\"comedian\"}\n",
        "  if bool(sample_data) == False:\n",
        "    print(\"Dictionary is empty\")\n",
        "  else:\n",
        "    print(\"Dictionary is not empty\")\n",
        "\n",
        "check_if_empty()"
      ]
    }
  ],
  "metadata": {
    "colab": {
      "provenance": [],
      "include_colab_link": true
    },
    "kernelspec": {
      "display_name": "Python 3",
      "name": "python3"
    },
    "language_info": {
      "name": "python"
    }
  },
  "nbformat": 4,
  "nbformat_minor": 0
}